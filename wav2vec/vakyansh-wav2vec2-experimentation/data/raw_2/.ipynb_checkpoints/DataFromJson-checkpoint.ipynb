{
 "cells": [
  {
   "cell_type": "code",
   "execution_count": 1,
   "id": "6fe6b34e",
   "metadata": {},
   "outputs": [],
   "source": [
    "import json\n",
    "import csv\n"
   ]
  },
  {
   "cell_type": "code",
   "execution_count": 16,
   "id": "cfb7c92b",
   "metadata": {},
   "outputs": [],
   "source": [
    "Json_File = \"somenicename/data.json\""
   ]
  },
  {
   "cell_type": "code",
   "execution_count": 17,
   "id": "8064dac1",
   "metadata": {},
   "outputs": [],
   "source": [
    "with open(Json_File,'r') as file:\n",
    "    data = json.load(file)"
   ]
  },
  {
   "cell_type": "code",
   "execution_count": 18,
   "id": "7760b61b",
   "metadata": {},
   "outputs": [
    {
     "data": {
      "text/plain": [
       "dict_keys(['audioFilename', 'collectionSource', 'snr', 'duration', 'gender', 'text'])"
      ]
     },
     "execution_count": 18,
     "metadata": {},
     "output_type": "execute_result"
    }
   ],
   "source": [
    "data[0].keys()"
   ]
  },
  {
   "cell_type": "code",
   "execution_count": 5,
   "id": "bf700b30",
   "metadata": {},
   "outputs": [],
   "source": [
    "Processed = []\n",
    "\n",
    "for ele in data:\n",
    "    Processed += [[ele[\"audioFilename\"],ele[\"text\"]]]\n",
    "    \n",
    "with open('Processed_text.tsv', 'w', newline='', encoding=\"utf-8\") as tsvout:\n",
    "    tsvout = csv.writer(tsvout, delimiter='\\t')\n",
    "    tsvout.writerows(Processed)"
   ]
  },
  {
   "cell_type": "code",
   "execution_count": 11,
   "id": "c7b294ea",
   "metadata": {},
   "outputs": [
    {
     "name": "stdout",
     "output_type": "stream",
     "text": [
      "\n",
      "\n",
      "\n",
      "Count is :0\n",
      "\n",
      "\n",
      "\n"
     ]
    }
   ],
   "source": [
    "count = 0\n",
    "for ele in data:\n",
    "    if(ele['duration']>=20):\n",
    "        print(ele)\n",
    "        count+=1\n",
    "        \n",
    "print(\"\\n\\n\\nCount is :{}\\n\\n\\n\".format(count))"
   ]
  },
  {
   "cell_type": "code",
   "execution_count": null,
   "id": "3a8c39cf",
   "metadata": {},
   "outputs": [],
   "source": []
  }
 ],
 "metadata": {
  "kernelspec": {
   "display_name": "Python 3",
   "language": "python",
   "name": "python3"
  },
  "language_info": {
   "codemirror_mode": {
    "name": "ipython",
    "version": 3
   },
   "file_extension": ".py",
   "mimetype": "text/x-python",
   "name": "python",
   "nbconvert_exporter": "python",
   "pygments_lexer": "ipython3",
   "version": "3.8.5"
  }
 },
 "nbformat": 4,
 "nbformat_minor": 5
}
